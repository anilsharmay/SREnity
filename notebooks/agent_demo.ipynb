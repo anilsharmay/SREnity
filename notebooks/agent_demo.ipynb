{
  "cells": [
    {
      "cell_type": "markdown",
      "metadata": {},
      "source": [
        "# SREnity Agent Demo - Enterprise SRE Agent\n",
        "\n",
        "## 🤖 How SREnity Works\n",
        "\n",
        "SREnity is an **Enterprise SRE Agent** that uses advanced AI to help resolve production incidents by combining:\n",
        "\n",
        "### 🧠 **Intelligent Reasoning**\n",
        "- **LangGraph ReAct Pattern**: 2-node architecture for reasoning and tool execution\n",
        "- **Context-Aware Decision Making**: Analyzes queries to determine the best approach\n",
        "- **Multi-Step Problem Solving**: Can chain multiple tools for complex issues\n",
        "\n",
        "### 🔍 **Advanced Retrieval System**\n",
        "- **Ensemble Retriever**: Combines vector similarity + BM25 + Cohere Reranking\n",
        "- **GitLab Runbooks**: Access to comprehensive SRE procedures and troubleshooting guides\n",
        "- **Smart Chunking**: Optimized document processing for better retrieval\n",
        "\n",
        "### 🛠️ **Dual-Tool Architecture**\n",
        "\n",
        "#### 1. **Runbook Search** (`search_runbooks`)\n",
        "- **Source**: GitLab SRE runbooks (Redis, PostgreSQL, Elastic, CI/CD, etc.)\n",
        "- **Use Case**: Established procedures, troubleshooting steps, command references\n",
        "- **Strength**: Reliable, tested procedures from production experience\n",
        "\n",
        "#### 2. **Web Search** (`search_web`) \n",
        "- **Source**: Tavily search API for latest information\n",
        "- **Use Case**: Recent CVEs, version updates, breaking changes, latest best practices\n",
        "- **Strength**: Real-time information, current security updates\n",
        "\n",
        "### 🔄 **Agent Workflow**\n",
        "\n",
        "```\n",
        "User Query → Agent Analysis → Tool Selection → Information Retrieval → Response Synthesis\n",
        "```\n",
        "\n",
        "1. **Query Analysis**: Determines if query is SRE-related and which tools to use\n",
        "2. **Tool Selection**: Starts with runbooks, adds web search if needed\n",
        "3. **Information Retrieval**: Uses ensemble retriever for comprehensive coverage\n",
        "4. **Response Synthesis**: Combines information into actionable guidance\n",
        "\n",
        "### 🎯 **Key Features**\n",
        "\n",
        "- ✅ **Production-Ready**: Tested on real GitLab SRE runbooks\n",
        "- ✅ **Context-Aware**: Understands SRE terminology and procedures  \n",
        "- ✅ **Guardrails**: Refuses non-technical queries, focuses on SRE/DevOps\n",
        "- ✅ **Comprehensive**: Combines established procedures with latest information\n",
        "- ✅ **Actionable**: Provides step-by-step instructions and specific commands\n",
        "\n",
        "### 📊 **Performance**\n",
        "- **RAGAS Evaluation**: Superior performance across faithfulness, relevancy, and correctness\n",
        "- **Ensemble Retrieval**: +131% improvement in context recall vs baseline\n",
        "- **Enterprise Scale**: Handles complex production incident scenarios\n"
      ]
    },
    {
      "cell_type": "markdown",
      "metadata": {},
      "source": [
        "## Setup and Imports\n",
        "\n",
        "This section sets up the environment and imports all necessary components for the SREnity agent.\n"
      ]
    },
    {
      "cell_type": "markdown",
      "metadata": {},
      "source": [
        "## Package Installation\n",
        "\n",
        "Required packages are defined in pyproject.toml and should be available.\n",
        "If you need to install them, run: `pip install -e .`\n"
      ]
    },
    {
      "cell_type": "code",
      "execution_count": 1,
      "metadata": {},
      "outputs": [
        {
          "name": "stdout",
          "output_type": "stream",
          "text": [
            "✅ All imports successful\n"
          ]
        }
      ],
      "source": [
        "## 4. Core Imports\n",
        "\n",
        "# Core imports\n",
        "import os\n",
        "import sys\n",
        "import logging\n",
        "from pathlib import Path\n",
        "from typing import TypedDict, Annotated, Sequence\n",
        "import operator\n",
        "\n",
        "# Add project root to Python path\n",
        "sys.path.insert(0, \"..\")\n",
        "\n",
        "# Set up minimal logging\n",
        "logging.basicConfig(level=logging.WARNING)\n",
        "\n",
        "# Load environment variables\n",
        "from dotenv import load_dotenv\n",
        "load_dotenv(\"../.env\")\n",
        "\n",
        "# LangChain imports\n",
        "from langchain_core.messages import BaseMessage, HumanMessage, AIMessage, SystemMessage\n",
        "from langchain_core.tools import tool\n",
        "from langchain_openai import ChatOpenAI\n",
        "\n",
        "# LangGraph imports\n",
        "from langgraph.graph import StateGraph, START, END\n",
        "from langgraph.prebuilt import ToolNode\n",
        "\n",
        "# Tavily search\n",
        "from langchain_community.tools.tavily_search import TavilySearchResults\n",
        "\n",
        "# Local imports\n",
        "from src.utils.config import get_config, get_model_factory\n",
        "\n",
        "print(\"✅ All imports successful\")\n"
      ]
    },
    {
      "cell_type": "markdown",
      "metadata": {},
      "source": [
        "## Create SRE Agent\n",
        "\n",
        "The SREAgent class handles all the complexity automatically:\n",
        "- Database initialization and vector store creation\n",
        "- Ensemble retriever setup (Naive + BM25 + Reranker)\n",
        "- Tools initialization with database components\n",
        "- LangGraph ReAct pattern implementation\n"
      ]
    },
    {
      "cell_type": "code",
      "execution_count": 2,
      "metadata": {},
      "outputs": [
        {
          "name": "stdout",
          "output_type": "stream",
          "text": [
            "🔄 Creating SRE agent...\n",
            "🔄 Initializing SRE agent database components...\n",
            "📚 Loaded 696 documents\n",
            "🔍 Filtered to 33 Redis documents\n",
            "🔄 Preprocessing documents...\n",
            "HTML to Markdown conversion results:\n",
            "  Original: 290,437 - 575,312 chars\n",
            "  Markdown: 52,226 - 96,814 chars\n",
            "  Reduction: 81.5%\n",
            "🔄 Chunking documents...\n",
            "📄 Created 685 chunks\n",
            "🔄 Creating/loading vector store...\n",
            "Vector database exists. Loading...\n",
            "Loaded existing vector store from ../qdrant_db\n",
            "🔄 Initializing tools with provided database...\n",
            "Advanced retrieval module loaded with rerank-v3.5\n",
            "Creating BM25 + Reranker retriever...\n",
            "Creating BM25 retriever from 685 documents...\n",
            "BM25 retriever created (k=12)\n",
            "BM25 + Reranker retriever created (BM25 k=12, Rerank k=4)\n",
            "✅ Tools initialized with database\n",
            "✅ Database components initialized\n",
            "✅ SRE agent ready!\n",
            "✅ SRE agent ready!\n"
          ]
        },
        {
          "name": "stderr",
          "output_type": "stream",
          "text": [
            "/Users/anilyanamandra/Develop/aie8/SREnity/notebooks/../src/rag/bm25_reranker_retriever.py:38: LangChainDeprecationWarning: The class `CohereRerank` was deprecated in LangChain 0.0.30 and will be removed in 1.0. An updated version of the class exists in the :class:`~langchain-cohere package and should be used instead. To use it run `pip install -U :class:`~langchain-cohere` and import as `from :class:`~langchain_cohere import CohereRerank``.\n",
            "  compressor = CohereRerank(\n"
          ]
        }
      ],
      "source": [
        "# Create SRE Agent (handles everything automatically)\n",
        "from src.agents.sre_agent import SREAgent\n",
        "\n",
        "print(\"🔄 Creating SRE agent...\")\n",
        "agent = SREAgent()\n",
        "print(\"✅ SRE agent ready!\")\n"
      ]
    },
    {
      "cell_type": "markdown",
      "metadata": {},
      "source": [
        "# Graph structure"
      ]
    },
    {
      "cell_type": "code",
      "execution_count": 3,
      "metadata": {},
      "outputs": [
        {
          "name": "stdout",
          "output_type": "stream",
          "text": [
            "🤖 SREnity Agent Mermaid Diagram:\n",
            "---\n",
            "config:\n",
            "  flowchart:\n",
            "    curve: linear\n",
            "---\n",
            "graph TD;\n",
            "\t__start__([<p>__start__</p>]):::first\n",
            "\tassistant(assistant)\n",
            "\ttools(tools)\n",
            "\t__end__([<p>__end__</p>]):::last\n",
            "\t__start__ --> assistant;\n",
            "\tassistant -.-> __end__;\n",
            "\tassistant -.-> tools;\n",
            "\ttools --> assistant;\n",
            "\tclassDef default fill:#f2f0ff,line-height:1.2\n",
            "\tclassDef first fill-opacity:0\n",
            "\tclassDef last fill:#bfb6fc\n",
            "\n"
          ]
        },
        {
          "data": {
            "image/png": "[encoded data removed]",
            "text/plain": [
              "<IPython.core.display.Image object>"
            ]
          },
          "metadata": {},
          "output_type": "display_data"
        }
      ],
      "source": [
        "from mermaid import Mermaid\n",
        "from IPython.display import Image, display\n",
        "import io\n",
        "\n",
        "# Get the underlying graph and mermaid representation\n",
        "graph = agent.graph.get_graph()\n",
        "mermaid_str = graph.draw_mermaid()\n",
        "\n",
        "print(\"🤖 SREnity Agent Mermaid Diagram:\")\n",
        "print(mermaid_str)\n",
        "\n",
        "# Create Mermaid instance and save to temporary file\n",
        "mm = Mermaid(mermaid_str)\n",
        "mm.to_png(\"agent_graph.png\")\n",
        "\n",
        "# Display the saved PNG\n",
        "display(Image(\"agent_graph.png\"))"
      ]
    },
    {
      "cell_type": "markdown",
      "metadata": {},
      "source": [
        "## Test Function\n",
        "\n",
        "Utility function to test the agent with queries and show the reasoning process.\n"
      ]
    },
    {
      "cell_type": "code",
      "execution_count": 4,
      "metadata": {},
      "outputs": [
        {
          "name": "stdout",
          "output_type": "stream",
          "text": [
            "✅ Test function ready\n"
          ]
        }
      ],
      "source": [
        "def test_agent(query: str, verbose: bool = True):\n",
        "    \"\"\"\n",
        "    Test the agent with a query and show the reasoning process\n",
        "    \"\"\"\n",
        "    print(f\"\\n{'='*60}\")\n",
        "    print(f\"QUERY: {query}\")\n",
        "    print(f\"{'='*60}\")\n",
        "    \n",
        "    if verbose:\n",
        "        print(\"\\n🤖 Agent reasoning process:\")\n",
        "        \n",
        "    # Use the SREAgent\n",
        "    result = agent.invoke(query, verbose=verbose)\n",
        "    \n",
        "    if verbose:\n",
        "        print(\"\\n📝 Final Response:\")\n",
        "        print(\"-\" * 40)\n",
        "    \n",
        "    print(result)\n",
        "    \n",
        "    return result\n",
        "\n",
        "print(\"✅ Test function ready\")\n"
      ]
    },
    {
      "cell_type": "markdown",
      "metadata": {},
      "source": [
        "## Demo Scenarios\n",
        "\n",
        "Test the agent with various types of SRE queries to demonstrate its capabilities.\n"
      ]
    },
    {
      "cell_type": "code",
      "execution_count": 5,
      "metadata": {},
      "outputs": [
        {
          "name": "stdout",
          "output_type": "stream",
          "text": [
            "\n",
            "============================================================\n",
            "QUERY: How to monitor Redis memory usage?\n",
            "============================================================\n",
            "\n",
            "🤖 Agent reasoning process:\n",
            "Agent reasoning steps: 4 messages\n",
            "Step 2: Called tools: ['search_runbooks']\n",
            "Step 4: Final response\n",
            "\n",
            "📝 Final Response:\n",
            "----------------------------------------\n",
            "**1. Direct Answer:**  \n",
            "To monitor Redis memory usage effectively, you should regularly collect memory metrics using `redis-cli MEMORY_STATS`, monitor the configured maxmemory setting, and set up alerting for memory saturation or evicted keys. Use Prometheus metrics and Grafana dashboards for ongoing visualization, and leverage Redis latency and slowlog tools to identify potential issues related to memory pressure.\n",
            "\n",
            "---\n",
            "\n",
            "**2. Step-by-Step Instructions:**\n",
            "\n",
            "**A. Collect Memory Usage Data**  \n",
            "1. Run the `MEMORY_STATS` command via `redis-cli` to get detailed memory metrics:  \n",
            "   ```bash\n",
            "   redis-cli MEMORY_STATS\n",
            "   ```  \n",
            "2. Review the output for key metrics such as `used_memory`, `used_memory_rss`, `used_memory_peak`, and `total_system_memory`.\n",
            "\n",
            "**B. Monitor Memory Limits and Usage Proportion**  \n",
            "3. Check the current `maxmemory` setting:  \n",
            "   ```bash\n",
            "   redis-cli CONFIG GET maxmemory\n",
            "   ```  \n",
            "4. Calculate the proportion of memory used relative to `maxmemory`. This helps identify when Redis approaches its configured limit.\n",
            "\n",
            "**C. Set Up Alerting for Memory Saturation**  \n",
            "5. Use Prometheus metrics (if configured) to alert when `redis_memory_used_bytes` approaches `maxmemory`.  \n",
            "6. Monitor the `redis_evicted_keys_total` metric; if it raises above zero, it indicates Redis is evicting keys due to memory saturation.\n",
            "\n",
            "**D. Use Runbook Recommended Commands for Ongoing Monitoring**  \n",
            "7. Regularly run `INFO` to get an overview of Redis stats:  \n",
            "   ```bash\n",
            "   redis-cli INFO\n",
            "   ```  \n",
            "8. Check the `evicted_keys` and `used_memory` fields for signs of memory pressure.\n",
            "\n",
            "**E. Visualize and Alert with Grafana/Prometheus**  \n",
            "9. Use the provided dashboards (e.g., Redis cache overview) to monitor memory trends over time.  \n",
            "10. Set alerts based on thresholds for memory usage and evictions.\n",
            "\n",
            "**F. Additional Diagnostic Tools**  \n",
            "11. Use `slowlog` to identify slow commands that may be related to memory issues:  \n",
            "    ```bash\n",
            "    redis-cli SLOWLOG GET 10\n",
            "    ```  \n",
            "12. Enable latency monitoring if needed to detect latency spikes caused by memory pressure:  \n",
            "    ```bash\n",
            "    redis-cli CONFIG SET latency-monitor-threshold 100\n",
            "    ```  \n",
            "\n",
            "---\n",
            "\n",
            "**3. Key Commands:**  \n",
            "- Check memory stats:  \n",
            "  ```bash\n",
            "  redis-cli MEMORY_STATS\n",
            "  ```  \n",
            "- Check current maxmemory:  \n",
            "  ```bash\n",
            "  redis-cli CONFIG GET maxmemory\n",
            "  ```  \n",
            "- Check evicted keys count:  \n",
            "  ```bash\n",
            "  redis-cli INFO stats | grep evicted_keys\n",
            "  ```  \n",
            "- Monitor slowlog:  \n",
            "  ```bash\n",
            "  redis-cli SLOWLOG GET 10\n",
            "  ```  \n",
            "- Enable latency monitor (if needed):  \n",
            "  ```bash\n",
            "  redis-cli CONFIG SET latency-monitor-threshold 100\n",
            "  ```  \n",
            "\n",
            "---\n",
            "\n",
            "**4. Important Notes:**  \n",
            "- **Avoid using `MONITOR` or `KEYS` commands** in production as they can overload Redis and cause memory issues.  \n",
            "- Regularly review `evicted_keys_total` and `used_memory` metrics to detect early signs of saturation.  \n",
            "- Use Prometheus and Grafana dashboards for continuous, visual monitoring.  \n",
            "- Be cautious when enabling latency monitoring; it adds minimal memory overhead but should be used judiciously.  \n",
            "- For detailed analysis, consider using `rdb` memory dump analysis tools or keyspace pattern analysis tools as described in the runbook.\n",
            "\n",
            "---\n",
            "\n",
            "**Summary:**  \n",
            "Consistently collect memory metrics via `MEMORY_STATS`, monitor `maxmemory` and eviction metrics, set up alerting thresholds, and utilize visualization tools for ongoing health checks. Use runbook commands and tools to diagnose and troubleshoot memory-related issues proactively.\n"
          ]
        },
        {
          "data": {
            "text/plain": [
              "'**1. Direct Answer:**  \\nTo monitor Redis memory usage effectively, you should regularly collect memory metrics using `redis-cli MEMORY_STATS`, monitor the configured maxmemory setting, and set up alerting for memory saturation or evicted keys. Use Prometheus metrics and Grafana dashboards for ongoing visualization, and leverage Redis latency and slowlog tools to identify potential issues related to memory pressure.\\n\\n---\\n\\n**2. Step-by-Step Instructions:**\\n\\n**A. Collect Memory Usage Data**  \\n1. Run the `MEMORY_STATS` command via `redis-cli` to get detailed memory metrics:  \\n   ```bash\\n   redis-cli MEMORY_STATS\\n   ```  \\n2. Review the output for key metrics such as `used_memory`, `used_memory_rss`, `used_memory_peak`, and `total_system_memory`.\\n\\n**B. Monitor Memory Limits and Usage Proportion**  \\n3. Check the current `maxmemory` setting:  \\n   ```bash\\n   redis-cli CONFIG GET maxmemory\\n   ```  \\n4. Calculate the proportion of memory used relative to `maxmemory`. This helps identify when Redis approaches its configured limit.\\n\\n**C. Set Up Alerting for Memory Saturation**  \\n5. Use Prometheus metrics (if configured) to alert when `redis_memory_used_bytes` approaches `maxmemory`.  \\n6. Monitor the `redis_evicted_keys_total` metric; if it raises above zero, it indicates Redis is evicting keys due to memory saturation.\\n\\n**D. Use Runbook Recommended Commands for Ongoing Monitoring**  \\n7. Regularly run `INFO` to get an overview of Redis stats:  \\n   ```bash\\n   redis-cli INFO\\n   ```  \\n8. Check the `evicted_keys` and `used_memory` fields for signs of memory pressure.\\n\\n**E. Visualize and Alert with Grafana/Prometheus**  \\n9. Use the provided dashboards (e.g., Redis cache overview) to monitor memory trends over time.  \\n10. Set alerts based on thresholds for memory usage and evictions.\\n\\n**F. Additional Diagnostic Tools**  \\n11. Use `slowlog` to identify slow commands that may be related to memory issues:  \\n    ```bash\\n    redis-cli SLOWLOG GET 10\\n    ```  \\n12. Enable latency monitoring if needed to detect latency spikes caused by memory pressure:  \\n    ```bash\\n    redis-cli CONFIG SET latency-monitor-threshold 100\\n    ```  \\n\\n---\\n\\n**3. Key Commands:**  \\n- Check memory stats:  \\n  ```bash\\n  redis-cli MEMORY_STATS\\n  ```  \\n- Check current maxmemory:  \\n  ```bash\\n  redis-cli CONFIG GET maxmemory\\n  ```  \\n- Check evicted keys count:  \\n  ```bash\\n  redis-cli INFO stats | grep evicted_keys\\n  ```  \\n- Monitor slowlog:  \\n  ```bash\\n  redis-cli SLOWLOG GET 10\\n  ```  \\n- Enable latency monitor (if needed):  \\n  ```bash\\n  redis-cli CONFIG SET latency-monitor-threshold 100\\n  ```  \\n\\n---\\n\\n**4. Important Notes:**  \\n- **Avoid using `MONITOR` or `KEYS` commands** in production as they can overload Redis and cause memory issues.  \\n- Regularly review `evicted_keys_total` and `used_memory` metrics to detect early signs of saturation.  \\n- Use Prometheus and Grafana dashboards for continuous, visual monitoring.  \\n- Be cautious when enabling latency monitoring; it adds minimal memory overhead but should be used judiciously.  \\n- For detailed analysis, consider using `rdb` memory dump analysis tools or keyspace pattern analysis tools as described in the runbook.\\n\\n---\\n\\n**Summary:**  \\nConsistently collect memory metrics via `MEMORY_STATS`, monitor `maxmemory` and eviction metrics, set up alerting thresholds, and utilize visualization tools for ongoing health checks. Use runbook commands and tools to diagnose and troubleshoot memory-related issues proactively.'"
            ]
          },
          "execution_count": 5,
          "metadata": {},
          "output_type": "execute_result"
        }
      ],
      "source": [
        "# Test 1: Standard SRE query (should use runbooks only)\n",
        "test_agent(\"How to monitor Redis memory usage?\")\n"
      ]
    },
    {
      "cell_type": "code",
      "execution_count": 6,
      "metadata": {},
      "outputs": [
        {
          "name": "stdout",
          "output_type": "stream",
          "text": [
            "\n",
            "============================================================\n",
            "QUERY: Redis 7.2 memory leak issues and fixes\n",
            "============================================================\n",
            "\n",
            "🤖 Agent reasoning process:\n"
          ]
        },
        {
          "name": "stderr",
          "output_type": "stream",
          "text": [
            "/Users/anilyanamandra/Develop/aie8/SREnity/notebooks/../src/agents/tools.py:93: LangChainDeprecationWarning: The class `TavilySearchResults` was deprecated in LangChain 0.3.25 and will be removed in 1.0. An updated version of the class exists in the :class:`~langchain-tavily package and should be used instead. To use it run `pip install -U :class:`~langchain-tavily` and import as `from :class:`~langchain_tavily import TavilySearch``.\n",
            "  tavily_tool = TavilySearchResults(\n"
          ]
        },
        {
          "name": "stdout",
          "output_type": "stream",
          "text": [
            "Agent reasoning steps: 5 messages\n",
            "Step 2: Called tools: ['search_runbooks', 'search_web']\n",
            "Step 5: Final response\n",
            "\n",
            "📝 Final Response:\n",
            "----------------------------------------\n",
            "The search results indicate that Redis 7.2 may experience memory leak issues or high memory usage due to bugs or misconfigurations. To address these issues, the recommended steps include:\n",
            "\n",
            "1. Upgrading Redis to the latest stable version and applying all patches.\n",
            "2. Monitoring memory usage using tools like `redis-cli info memory` and observing trends.\n",
            "3. Checking Redis logs and slowlogs for suspicious activity.\n",
            "4. Configuring memory policies such as `maxmemory` and `maxmemory-policy`.\n",
            "5. Restarting Redis as a temporary mitigation if memory usage becomes critical.\n",
            "6. Reviewing Redis release notes and bug trackers for known memory leak fixes in Redis 7.2.\n",
            "\n",
            "Additionally, some sources mention that Redis 7.2 has introduced new features and changes that may affect memory management, including a new RDB format and behavior changes related to memory handling.\n",
            "\n",
            "Would you like detailed step-by-step instructions on how to implement these fixes or further assistance?\n"
          ]
        },
        {
          "data": {
            "text/plain": [
              "'The search results indicate that Redis 7.2 may experience memory leak issues or high memory usage due to bugs or misconfigurations. To address these issues, the recommended steps include:\\n\\n1. Upgrading Redis to the latest stable version and applying all patches.\\n2. Monitoring memory usage using tools like `redis-cli info memory` and observing trends.\\n3. Checking Redis logs and slowlogs for suspicious activity.\\n4. Configuring memory policies such as `maxmemory` and `maxmemory-policy`.\\n5. Restarting Redis as a temporary mitigation if memory usage becomes critical.\\n6. Reviewing Redis release notes and bug trackers for known memory leak fixes in Redis 7.2.\\n\\nAdditionally, some sources mention that Redis 7.2 has introduced new features and changes that may affect memory management, including a new RDB format and behavior changes related to memory handling.\\n\\nWould you like detailed step-by-step instructions on how to implement these fixes or further assistance?'"
            ]
          },
          "execution_count": 6,
          "metadata": {},
          "output_type": "execute_result"
        }
      ],
      "source": [
        "# Test 2: Version-specific query (should use both tools)\n",
        "test_agent(\"Redis 7.2 memory leak issues and fixes\")\n"
      ]
    },
    {
      "cell_type": "code",
      "execution_count": 7,
      "metadata": {},
      "outputs": [
        {
          "name": "stdout",
          "output_type": "stream",
          "text": [
            "\n",
            "============================================================\n",
            "QUERY: What's the weather like today?\n",
            "============================================================\n",
            "\n",
            "🤖 Agent reasoning process:\n",
            "Agent reasoning steps: 2 messages\n",
            "Step 2: Final response\n",
            "\n",
            "📝 Final Response:\n",
            "----------------------------------------\n",
            "I'm specialized in SRE incident response and can only help with infrastructure troubleshooting, runbook procedures, and production issues. Please ask about system operations or technical problems.\n"
          ]
        },
        {
          "data": {
            "text/plain": [
              "\"I'm specialized in SRE incident response and can only help with infrastructure troubleshooting, runbook procedures, and production issues. Please ask about system operations or technical problems.\""
            ]
          },
          "execution_count": 7,
          "metadata": {},
          "output_type": "execute_result"
        }
      ],
      "source": [
        "# Test 3: Off-topic query (should refuse)\n",
        "test_agent(\"What's the weather like today?\")\n"
      ]
    },
    {
      "cell_type": "code",
      "execution_count": 8,
      "metadata": {},
      "outputs": [
        {
          "name": "stdout",
          "output_type": "stream",
          "text": [
            "\n",
            "============================================================\n",
            "QUERY: PostgreSQL connection pool exhaustion in production - how to diagnose and fix?\n",
            "============================================================\n",
            "\n",
            "🤖 Agent reasoning process:\n",
            "Agent reasoning steps: 4 messages\n",
            "Step 2: Called tools: ['search_runbooks']\n",
            "Step 4: Final response\n",
            "\n",
            "📝 Final Response:\n",
            "----------------------------------------\n",
            "### 1. Direct Answer\n",
            "PostgreSQL connection pool exhaustion occurs when all available client connections are in use, preventing new clients from connecting. To diagnose and fix this, identify the cause of high connection usage, optimize connection management, and adjust configuration limits as needed.\n",
            "\n",
            "---\n",
            "\n",
            "### 2. Step-by-Step Instructions\n",
            "\n",
            "#### **Step 1: Diagnose the Issue**\n",
            "1. **Check current connection usage:**\n",
            "   - Use the command:\n",
            "     ```sql\n",
            "     SELECT count(*) FROM pg_stat_activity;\n",
            "     ```\n",
            "   - Or, for more detailed info:\n",
            "     ```sql\n",
            "     SELECT pid, usename, application_name, client_addr, state, query \n",
            "     FROM pg_stat_activity \n",
            "     ORDER BY age(desc);\n",
            "     ```\n",
            "2. **Identify long-running or idle connections:**\n",
            "   - Look for idle or stuck transactions that may be consuming connections unnecessarily.\n",
            "3. **Review connection pool metrics:**\n",
            "   - If using pgbouncer, check its stats:\n",
            "     ```bash\n",
            "     SHOW POOLS;\n",
            "     SHOW STATS;\n",
            "     ```\n",
            "   - Use `pgbouncer` logs and dashboards for insights.\n",
            "\n",
            "#### **Step 2: Analyze the Cause**\n",
            "- Determine if the exhaustion is due to:\n",
            "  - Application issues (e.g., connection leaks, long transactions)\n",
            "  - Insufficient connection limits\n",
            "  - Sudden traffic spikes\n",
            "  - Misconfigured connection pooling\n",
            "\n",
            "#### **Step 3: Implement Immediate Fixes**\n",
            "1. **Terminate problematic connections:**\n",
            "   - Identify and terminate long-running or idle connections:\n",
            "     ```sql\n",
            "     SELECT pg_terminate_backend(pid) FROM pg_stat_activity WHERE <condition>;\n",
            "     ```\n",
            "   - Example:\n",
            "     ```sql\n",
            "     SELECT pg_terminate_backend(pid) FROM pg_stat_activity WHERE state='idle' AND age(current_timestamp, query_start) > interval '5 minutes';\n",
            "     ```\n",
            "2. **Restart connection pooler (if applicable):**\n",
            "   - For pgbouncer:\n",
            "     ```bash\n",
            "     sudo systemctl restart pgbouncer\n",
            "     ```\n",
            "\n",
            "#### **Step 4: Optimize and Prevent Future Exhaustion**\n",
            "1. **Adjust PostgreSQL max_connections:**\n",
            "   - Edit `postgresql.conf`:\n",
            "     ```\n",
            "     max_connections = <new_value>\n",
            "     ```\n",
            "   - Recommended to keep within system limits.\n",
            "2. **Configure connection pooling:**\n",
            "   - Use pgbouncer or Pgpool-II to manage connections efficiently.\n",
            "   - Adjust pool sizes:\n",
            "     ```sql\n",
            "     SHOW POOLS;\n",
            "     ```\n",
            "   - Modify pool size settings in `pgbouncer.ini`:\n",
            "     ```\n",
            "     [pgbouncer]\n",
            "     pool_size = <appropriate_value>\n",
            "     ```\n",
            "3. **Review application connection handling:**\n",
            "   - Ensure connections are properly closed after use.\n",
            "   - Use connection pooling libraries or middleware.\n",
            "\n",
            "#### **Step 5: Monitor and Alert**\n",
            "- Set up monitoring dashboards (e.g., via `postgres_exporter`) to track connection counts.\n",
            "- Configure alerts for high connection usage thresholds.\n",
            "\n",
            "---\n",
            "\n",
            "### 3. Key Commands\n",
            "- Check active connections:\n",
            "  ```sql\n",
            "  SELECT count(*) FROM pg_stat_activity;\n",
            "  ```\n",
            "- View detailed activity:\n",
            "  ```sql\n",
            "  SELECT pid, usename, application_name, client_addr, state, query FROM pg_stat_activity ORDER BY age(desc);\n",
            "  ```\n",
            "- Terminate a specific backend:\n",
            "  ```sql\n",
            "  SELECT pg_terminate_backend(<pid>);\n",
            "  ```\n",
            "- Check pgbouncer pools:\n",
            "  ```sql\n",
            "  SHOW POOLS;\n",
            "  SHOW STATS;\n",
            "  ```\n",
            "- Restart pgbouncer:\n",
            "  ```bash\n",
            "  sudo systemctl restart pgbouncer\n",
            "  ```\n",
            "\n",
            "---\n",
            "\n",
            "### 4. Important Notes\n",
            "- **Prerequisites:** Ensure you have sufficient privileges to run `pg_stat_activity` queries and restart services.\n",
            "- **Caution:** Terminating connections can disrupt ongoing transactions; do so during maintenance windows if possible.\n",
            "- **Configuration Limits:** Increasing `max_connections` requires sufficient system resources (memory).\n",
            "- **Long-term Fix:** Implement proper connection pooling and application connection management to prevent recurrence.\n",
            "- **Monitoring:** Regularly monitor connection metrics to catch issues early.\n",
            "\n",
            "---\n",
            "\n",
            "**Summary:**  \n",
            "Diagnose by checking active connections, identify problematic ones, terminate if necessary, optimize connection pooling, and adjust configuration limits. Continuous monitoring and proper application connection handling are key to preventing future exhaustion.\n"
          ]
        },
        {
          "data": {
            "text/plain": [
              "\"### 1. Direct Answer\\nPostgreSQL connection pool exhaustion occurs when all available client connections are in use, preventing new clients from connecting. To diagnose and fix this, identify the cause of high connection usage, optimize connection management, and adjust configuration limits as needed.\\n\\n---\\n\\n### 2. Step-by-Step Instructions\\n\\n#### **Step 1: Diagnose the Issue**\\n1. **Check current connection usage:**\\n   - Use the command:\\n     ```sql\\n     SELECT count(*) FROM pg_stat_activity;\\n     ```\\n   - Or, for more detailed info:\\n     ```sql\\n     SELECT pid, usename, application_name, client_addr, state, query \\n     FROM pg_stat_activity \\n     ORDER BY age(desc);\\n     ```\\n2. **Identify long-running or idle connections:**\\n   - Look for idle or stuck transactions that may be consuming connections unnecessarily.\\n3. **Review connection pool metrics:**\\n   - If using pgbouncer, check its stats:\\n     ```bash\\n     SHOW POOLS;\\n     SHOW STATS;\\n     ```\\n   - Use `pgbouncer` logs and dashboards for insights.\\n\\n#### **Step 2: Analyze the Cause**\\n- Determine if the exhaustion is due to:\\n  - Application issues (e.g., connection leaks, long transactions)\\n  - Insufficient connection limits\\n  - Sudden traffic spikes\\n  - Misconfigured connection pooling\\n\\n#### **Step 3: Implement Immediate Fixes**\\n1. **Terminate problematic connections:**\\n   - Identify and terminate long-running or idle connections:\\n     ```sql\\n     SELECT pg_terminate_backend(pid) FROM pg_stat_activity WHERE <condition>;\\n     ```\\n   - Example:\\n     ```sql\\n     SELECT pg_terminate_backend(pid) FROM pg_stat_activity WHERE state='idle' AND age(current_timestamp, query_start) > interval '5 minutes';\\n     ```\\n2. **Restart connection pooler (if applicable):**\\n   - For pgbouncer:\\n     ```bash\\n     sudo systemctl restart pgbouncer\\n     ```\\n\\n#### **Step 4: Optimize and Prevent Future Exhaustion**\\n1. **Adjust PostgreSQL max_connections:**\\n   - Edit `postgresql.conf`:\\n     ```\\n     max_connections = <new_value>\\n     ```\\n   - Recommended to keep within system limits.\\n2. **Configure connection pooling:**\\n   - Use pgbouncer or Pgpool-II to manage connections efficiently.\\n   - Adjust pool sizes:\\n     ```sql\\n     SHOW POOLS;\\n     ```\\n   - Modify pool size settings in `pgbouncer.ini`:\\n     ```\\n     [pgbouncer]\\n     pool_size = <appropriate_value>\\n     ```\\n3. **Review application connection handling:**\\n   - Ensure connections are properly closed after use.\\n   - Use connection pooling libraries or middleware.\\n\\n#### **Step 5: Monitor and Alert**\\n- Set up monitoring dashboards (e.g., via `postgres_exporter`) to track connection counts.\\n- Configure alerts for high connection usage thresholds.\\n\\n---\\n\\n### 3. Key Commands\\n- Check active connections:\\n  ```sql\\n  SELECT count(*) FROM pg_stat_activity;\\n  ```\\n- View detailed activity:\\n  ```sql\\n  SELECT pid, usename, application_name, client_addr, state, query FROM pg_stat_activity ORDER BY age(desc);\\n  ```\\n- Terminate a specific backend:\\n  ```sql\\n  SELECT pg_terminate_backend(<pid>);\\n  ```\\n- Check pgbouncer pools:\\n  ```sql\\n  SHOW POOLS;\\n  SHOW STATS;\\n  ```\\n- Restart pgbouncer:\\n  ```bash\\n  sudo systemctl restart pgbouncer\\n  ```\\n\\n---\\n\\n### 4. Important Notes\\n- **Prerequisites:** Ensure you have sufficient privileges to run `pg_stat_activity` queries and restart services.\\n- **Caution:** Terminating connections can disrupt ongoing transactions; do so during maintenance windows if possible.\\n- **Configuration Limits:** Increasing `max_connections` requires sufficient system resources (memory).\\n- **Long-term Fix:** Implement proper connection pooling and application connection management to prevent recurrence.\\n- **Monitoring:** Regularly monitor connection metrics to catch issues early.\\n\\n---\\n\\n**Summary:**  \\nDiagnose by checking active connections, identify problematic ones, terminate if necessary, optimize connection pooling, and adjust configuration limits. Continuous monitoring and proper application connection handling are key to preventing future exhaustion.\""
            ]
          },
          "execution_count": 8,
          "metadata": {},
          "output_type": "execute_result"
        }
      ],
      "source": [
        "# Test 4: Complex SRE query (should use both tools)\n",
        "test_agent(\"PostgreSQL connection pool exhaustion in production - how to diagnose and fix?\")\n"
      ]
    },
    {
      "cell_type": "markdown",
      "metadata": {},
      "source": [
        "## Interactive Demo\n",
        "\n",
        "Try your own SRE queries with the interactive demo function.\n"
      ]
    },
    {
      "cell_type": "code",
      "execution_count": 9,
      "metadata": {},
      "outputs": [
        {
          "name": "stdout",
          "output_type": "stream",
          "text": [
            "\n",
            "============================================================\n",
            "QUERY: Show me the exact syntax for Redis MEMORY STATS command\n",
            "============================================================\n",
            "\n",
            "🤖 Agent reasoning process:\n",
            "Agent reasoning steps: 2 messages\n",
            "Step 2: Final response\n",
            "\n",
            "📝 Final Response:\n",
            "----------------------------------------\n",
            "I'm specialized in SRE incident response and can only help with infrastructure troubleshooting, runbook procedures, and production issues. Please ask about system operations or technical problems.\n"
          ]
        },
        {
          "data": {
            "text/plain": [
              "\"I'm specialized in SRE incident response and can only help with infrastructure troubleshooting, runbook procedures, and production issues. Please ask about system operations or technical problems.\""
            ]
          },
          "execution_count": 9,
          "metadata": {},
          "output_type": "execute_result"
        }
      ],
      "source": [
        "# Test 5: Command-specific query (should use runbooks)\n",
        "test_agent(\"Show me the exact syntax for Redis MEMORY STATS command\")\n"
      ]
    }
  ],
  "metadata": {
    "kernelspec": {
      "display_name": ".venv",
      "language": "python",
      "name": "python3"
    },
    "language_info": {
      "codemirror_mode": {
        "name": "ipython",
        "version": 3
      },
      "file_extension": ".py",
      "mimetype": "text/x-python",
      "name": "python",
      "nbconvert_exporter": "python",
      "pygments_lexer": "ipython3",
      "version": "3.13.0"
    }
  },
  "nbformat": 4,
  "nbformat_minor": 2
}
